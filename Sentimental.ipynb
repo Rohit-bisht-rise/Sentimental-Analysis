{
  "nbformat": 4,
  "nbformat_minor": 0,
  "metadata": {
    "colab": {
      "name": "Sentimental.ipynb",
      "provenance": [],
      "collapsed_sections": []
    },
    "kernelspec": {
      "name": "python3",
      "display_name": "Python 3"
    }
  },
  "cells": [
    {
      "cell_type": "markdown",
      "metadata": {
        "id": "38wQlPwAHkBM"
      },
      "source": [
        "#### importing reqired modules"
      ]
    },
    {
      "cell_type": "code",
      "metadata": {
        "id": "si-b3eZyHT46"
      },
      "source": [
        "from collections import Counter\r\n",
        "import matplotlib.pyplot as plt\r\n",
        "import string"
      ],
      "execution_count": null,
      "outputs": []
    },
    {
      "cell_type": "markdown",
      "metadata": {
        "id": "MXGoA5ygH2b4"
      },
      "source": [
        "#### rading text from the file"
      ]
    },
    {
      "cell_type": "code",
      "metadata": {
        "colab": {
          "base_uri": "https://localhost:8080/",
          "height": 238
        },
        "id": "An2gPaMuH7Ei",
        "outputId": "23ab652a-a985-4d60-be3f-f5a00c7d266f"
      },
      "source": [
        "with open('read.txt', 'r') as f:\r\n",
        "  article_text = f.read()\r\n",
        "# printing it\r\n",
        "article_text"
      ],
      "execution_count": 37,
      "outputs": [
        {
          "output_type": "execute_result",
          "data": {
            "application/vnd.google.colaboratory.intrinsic+json": {
              "type": "string"
            },
            "text/plain": [
              "'I dropped out of Reed College after the first 6 months, but then stayed around as a drop-in for another 18 months or so before I really quit. So why did I drop out?\\n\\nIt started before I was born. My biological mother was a young, unwed college graduate student, and she decided to put me up for adoption. She felt very strongly that I should be adopted by college graduates, so everything was all set for me to be adopted at birth by a lawyer and his wife. Except that when I popped out they decided at the last minute that they really wanted a girl. So my parents, who were on a waiting list, got a call in the middle of the night asking: “We have an unexpected baby boy; do you want him?” They said: “Of course.” My biological mother later found out that my mother had never graduated from college and that my father had never graduated from high school. She refused to sign the final adoption papers. She only relented a few months later when my parents promised that I would someday go to college.\\n\\nAnd 17 years later I did go to college. But I naively chose a college that was almost as expensive as Stanford, and all of my working-class parents’ savings were being spent on my college tuition. After six months, I couldn’t see the value in it. I had no idea what I wanted to do with my life and no idea how college was going to help me figure it out. And here I was spending all of the money my parents had saved their entire life. So I decided to drop out and trust that it would all work out OK. It was pretty scary at the time, but looking back it was one of the best decisions I ever made. The minute I dropped out I could stop taking the required classes that didn’t interest me, and begin dropping in on the ones that looked interesting.\\n\\nIt wasn’t all romantic. I didn’t have a dorm room, so I slept on the floor in friends’ rooms, I returned Coke bottles for the 5¢ deposits to buy food with, and I would walk the 7 miles across town every Sunday night to get one good meal a week at the Hare Krishna temple. I loved it. And much of what I stumbled into by following my curiosity and intuition turned out to be priceless later on. Let me give you one example:\\n\\nReed College at that time offered perhaps the best calligraphy instruction in the country. Throughout the campus every poster, every label on every drawer, was beautifully hand calligraphed. Because I had dropped out and didn’t have to take the normal classes, I decided to take a calligraphy class to learn how to do this. I learned about serif and sans serif typefaces, about varying the amount of space between different letter combinations, about what makes great typography great. It was beautiful, historical, artistically subtle in a way that science can’t capture, and I found it fascinating.\\n\\nNone of this had even a hope of any practical application in my life. But 10 years later, when we were designing the first Macintosh computer, it all came back to me. And we designed it all into the Mac. It was the first computer with beautiful typography. If I had never dropped in on that single course in college, the Mac would have never had multiple typefaces or proportionally spaced fonts. And since Windows just copied the Mac, it’s likely that no personal computer would have them. If I had never dropped out, I would have never dropped in on this calligraphy class, and personal computers might not have the wonderful typography that they do. Of course it was impossible to connect the dots looking forward when I was in college. But it was very, very clear looking backward 10 years later.\\n\\nAgain, you can’t connect the dots looking forward; you can only connect them looking backward. So you have to trust that the dots will somehow connect in your future. You have to trust in something — your gut, destiny, life, karma, whatever. This approach has never let me down, and it has made all the difference in my life.\\n\\nMy second story is about love and loss.\\n\\nI was lucky — I found what I loved to do early in life. Woz and I started Apple in my parents’ garage when I was 20. We worked hard, and in 10 years Apple had grown from just the two of us in a garage into a $2 billion company with over 4,000 employees. We had just released our finest creation — the Macintosh — a year earlier, and I had just turned 30. And then I got fired. How can you get fired from a company you started? Well, as Apple grew we hired someone who I thought was very talented to run the company with me, and for the first year or so things went well. But then our visions of the future began to diverge and eventually we had a falling out. When we did, our Board of Directors sided with him. So at 30 I was out. And very publicly out. What had been the focus of my entire adult life was gone, and it was devastating.\\n\\nI really didn’t know what to do for a few months. I felt that I had let the previous generation of entrepreneurs down — that I had dropped the baton as it was being passed to me. I met with David Packard and Bob Noyce and tried to apologize for screwing up so badly. I was a very public failure, and I even thought about running away from the valley. But something slowly began to dawn on me — I still loved what I did. The turn of events at Apple had not changed that one bit. I had been rejected, but I was still in love. And so I decided to start over.\\n\\nI didn’t see it then, but it turned out that getting fired from Apple was the best thing that could have ever happened to me. The heaviness of being successful was replaced by the lightness of being a beginner again, less sure about everything. It freed me to enter one of the most creative periods of my life.\\n\\nDuring the next five years, I started a company named NeXT, another company named Pixar, and fell in love with an amazing woman who would become my wife. Pixar went on to create the world’s first computer animated feature film, Toy Story, and is now the most successful animation studio in the world. In a remarkable turn of events, Apple bought NeXT, I returned to Apple, and the technology we developed at NeXT is at the heart of Apple’s current renaissance. And Laurene and I have a wonderful family together.\\n\\nI’m pretty sure none of this would have happened if I hadn’t been fired from Apple. It was awful tasting medicine, but I guess the patient needed it. Sometimes life hits you in the head with a brick. Don’t lose faith. I’m convinced that the only thing that kept me going was that I loved what I did. You’ve got to find what you love. And that is as true for your work as it is for your lovers. Your work is going to fill a large part of your life, and the only way to be truly satisfied is to do what you believe is great work. And the only way to do great work is to love what you do. If you haven’t found it yet, keep looking. Don’t settle. As with all matters of the heart, you’ll know when you find it. And, like any great relationship, it just gets better and better as the years roll on. So keep looking until you find it. Don’t settle.\\n\\nMy third story is about death.\\n\\nWhen I was 17, I read a quote that went something like: “If you live each day as if it was your last, someday you’ll most certainly be right.” It made an impression on me, and since then, for the past 33 years, I have looked in the mirror every morning and asked myself: “If today were the last day of my life, would I want to do what I am about to do today?” And whenever the answer has been “No” for too many days in a row, I know I need to change something.\\n\\nRemembering that I’ll be dead soon is the most important tool I’ve ever encountered to help me make the big choices in life. Because almost everything — all external expectations, all pride, all fear of embarrassment or failure — these things just fall away in the face of death, leaving only what is truly important. Remembering that you are going to die is the best way I know to avoid the trap of thinking you have something to lose. You are already naked. There is no reason not to follow your heart.\\n\\nAbout a year ago I was diagnosed with cancer. I had a scan at 7:30 in the morning, and it clearly showed a tumor on my pancreas. I didn’t even know what a pancreas was. The doctors told me this was almost certainly a type of cancer that is incurable, and that I should expect to live no longer than three to six months. My doctor advised me to go home and get my affairs in order, which is doctor’s code for prepare to die. It means to try to tell your kids everything you thought you’d have the next 10 years to tell them in just a few months. It means to make sure everything is buttoned up so that it will be as easy as possible for your family. It means to say your goodbyes.\\n\\nI lived with that diagnosis all day. Later that evening I had a biopsy, where they stuck an endoscope down my throat, through my stomach and into my intestines, put a needle into my pancreas and got a few cells from the tumor. I was sedated, but my wife, who was there, told me that when they viewed the cells under a microscope the doctors started crying because it turned out to be a very rare form of pancreatic cancer that is curable with surgery. I had the surgery and I’m fine now.'"
            ]
          },
          "metadata": {
            "tags": []
          },
          "execution_count": 37
        }
      ]
    },
    {
      "cell_type": "markdown",
      "metadata": {
        "id": "y1l899PRIPqf"
      },
      "source": [
        "### clearning the text, and lowercaseing"
      ]
    },
    {
      "cell_type": "code",
      "metadata": {
        "colab": {
          "base_uri": "https://localhost:8080/",
          "height": 204
        },
        "id": "yomVQ4VdIPKd",
        "outputId": "e82e7811-ef16-498e-f931-20e09c577d80"
      },
      "source": [
        "article_text = article_text.replace('\\n', ' ')\r\n",
        "cleaned_text = article_text.translate(str.maketrans('', '', string.punctuation)).lower()\r\n",
        "# printing it\r\n",
        "cleaned_text"
      ],
      "execution_count": 63,
      "outputs": [
        {
          "output_type": "execute_result",
          "data": {
            "application/vnd.google.colaboratory.intrinsic+json": {
              "type": "string"
            },
            "text/plain": [
              "'i dropped out of reed college after the first 6 months but then stayed around as a dropin for another 18 months or so before i really quit so why did i drop out  it started before i was born my biological mother was a young unwed college graduate student and she decided to put me up for adoption she felt very strongly that i should be adopted by college graduates so everything was all set for me to be adopted at birth by a lawyer and his wife except that when i popped out they decided at the last minute that they really wanted a girl so my parents who were on a waiting list got a call in the middle of the night asking “we have an unexpected baby boy do you want him” they said “of course” my biological mother later found out that my mother had never graduated from college and that my father had never graduated from high school she refused to sign the final adoption papers she only relented a few months later when my parents promised that i would someday go to college  and 17 years later i did go to college but i naively chose a college that was almost as expensive as stanford and all of my workingclass parents’ savings were being spent on my college tuition after six months i couldn’t see the value in it i had no idea what i wanted to do with my life and no idea how college was going to help me figure it out and here i was spending all of the money my parents had saved their entire life so i decided to drop out and trust that it would all work out ok it was pretty scary at the time but looking back it was one of the best decisions i ever made the minute i dropped out i could stop taking the required classes that didn’t interest me and begin dropping in on the ones that looked interesting  it wasn’t all romantic i didn’t have a dorm room so i slept on the floor in friends’ rooms i returned coke bottles for the 5¢ deposits to buy food with and i would walk the 7 miles across town every sunday night to get one good meal a week at the hare krishna temple i loved it and much of what i stumbled into by following my curiosity and intuition turned out to be priceless later on let me give you one example  reed college at that time offered perhaps the best calligraphy instruction in the country throughout the campus every poster every label on every drawer was beautifully hand calligraphed because i had dropped out and didn’t have to take the normal classes i decided to take a calligraphy class to learn how to do this i learned about serif and sans serif typefaces about varying the amount of space between different letter combinations about what makes great typography great it was beautiful historical artistically subtle in a way that science can’t capture and i found it fascinating  none of this had even a hope of any practical application in my life but 10 years later when we were designing the first macintosh computer it all came back to me and we designed it all into the mac it was the first computer with beautiful typography if i had never dropped in on that single course in college the mac would have never had multiple typefaces or proportionally spaced fonts and since windows just copied the mac it’s likely that no personal computer would have them if i had never dropped out i would have never dropped in on this calligraphy class and personal computers might not have the wonderful typography that they do of course it was impossible to connect the dots looking forward when i was in college but it was very very clear looking backward 10 years later  again you can’t connect the dots looking forward you can only connect them looking backward so you have to trust that the dots will somehow connect in your future you have to trust in something — your gut destiny life karma whatever this approach has never let me down and it has made all the difference in my life  my second story is about love and loss  i was lucky — i found what i loved to do early in life woz and i started apple in my parents’ garage when i was 20 we worked hard and in 10 years apple had grown from just the two of us in a garage into a 2 billion company with over 4000 employees we had just released our finest creation — the macintosh — a year earlier and i had just turned 30 and then i got fired how can you get fired from a company you started well as apple grew we hired someone who i thought was very talented to run the company with me and for the first year or so things went well but then our visions of the future began to diverge and eventually we had a falling out when we did our board of directors sided with him so at 30 i was out and very publicly out what had been the focus of my entire adult life was gone and it was devastating  i really didn’t know what to do for a few months i felt that i had let the previous generation of entrepreneurs down — that i had dropped the baton as it was being passed to me i met with david packard and bob noyce and tried to apologize for screwing up so badly i was a very public failure and i even thought about running away from the valley but something slowly began to dawn on me — i still loved what i did the turn of events at apple had not changed that one bit i had been rejected but i was still in love and so i decided to start over  i didn’t see it then but it turned out that getting fired from apple was the best thing that could have ever happened to me the heaviness of being successful was replaced by the lightness of being a beginner again less sure about everything it freed me to enter one of the most creative periods of my life  during the next five years i started a company named next another company named pixar and fell in love with an amazing woman who would become my wife pixar went on to create the world’s first computer animated feature film toy story and is now the most successful animation studio in the world in a remarkable turn of events apple bought next i returned to apple and the technology we developed at next is at the heart of apple’s current renaissance and laurene and i have a wonderful family together  i’m pretty sure none of this would have happened if i hadn’t been fired from apple it was awful tasting medicine but i guess the patient needed it sometimes life hits you in the head with a brick don’t lose faith i’m convinced that the only thing that kept me going was that i loved what i did you’ve got to find what you love and that is as true for your work as it is for your lovers your work is going to fill a large part of your life and the only way to be truly satisfied is to do what you believe is great work and the only way to do great work is to love what you do if you haven’t found it yet keep looking don’t settle as with all matters of the heart you’ll know when you find it and like any great relationship it just gets better and better as the years roll on so keep looking until you find it don’t settle  my third story is about death  when i was 17 i read a quote that went something like “if you live each day as if it was your last someday you’ll most certainly be right” it made an impression on me and since then for the past 33 years i have looked in the mirror every morning and asked myself “if today were the last day of my life would i want to do what i am about to do today” and whenever the answer has been “no” for too many days in a row i know i need to change something  remembering that i’ll be dead soon is the most important tool i’ve ever encountered to help me make the big choices in life because almost everything — all external expectations all pride all fear of embarrassment or failure — these things just fall away in the face of death leaving only what is truly important remembering that you are going to die is the best way i know to avoid the trap of thinking you have something to lose you are already naked there is no reason not to follow your heart  about a year ago i was diagnosed with cancer i had a scan at 730 in the morning and it clearly showed a tumor on my pancreas i didn’t even know what a pancreas was the doctors told me this was almost certainly a type of cancer that is incurable and that i should expect to live no longer than three to six months my doctor advised me to go home and get my affairs in order which is doctor’s code for prepare to die it means to try to tell your kids everything you thought you’d have the next 10 years to tell them in just a few months it means to make sure everything is buttoned up so that it will be as easy as possible for your family it means to say your goodbyes  i lived with that diagnosis all day later that evening i had a biopsy where they stuck an endoscope down my throat through my stomach and into my intestines put a needle into my pancreas and got a few cells from the tumor i was sedated but my wife who was there told me that when they viewed the cells under a microscope the doctors started crying because it turned out to be a very rare form of pancreatic cancer that is curable with surgery i had the surgery and i’m fine now'"
            ]
          },
          "metadata": {
            "tags": []
          },
          "execution_count": 63
        }
      ]
    },
    {
      "cell_type": "markdown",
      "metadata": {
        "id": "Dj5QaxktJFUa"
      },
      "source": [
        "#### tokenize "
      ]
    },
    {
      "cell_type": "code",
      "metadata": {
        "colab": {
          "base_uri": "https://localhost:8080/"
        },
        "id": "xl9r0dAzJEub",
        "outputId": "e32b5f69-19cc-402c-b35d-a2f2fa4b4b66"
      },
      "source": [
        "tokenize_words = cleaned_text.split(' ')\r\n",
        "print(tokenize_words)"
      ],
      "execution_count": 39,
      "outputs": [
        {
          "output_type": "stream",
          "text": [
            "['i', 'dropped', 'out', 'of', 'reed', 'college', 'after', 'the', 'first', '6', 'months', 'but', 'then', 'stayed', 'around', 'as', 'a', 'dropin', 'for', 'another', '18', 'months', 'or', 'so', 'before', 'i', 'really', 'quit', 'so', 'why', 'did', 'i', 'drop', 'out', '', 'it', 'started', 'before', 'i', 'was', 'born', 'my', 'biological', 'mother', 'was', 'a', 'young', 'unwed', 'college', 'graduate', 'student', 'and', 'she', 'decided', 'to', 'put', 'me', 'up', 'for', 'adoption', 'she', 'felt', 'very', 'strongly', 'that', 'i', 'should', 'be', 'adopted', 'by', 'college', 'graduates', 'so', 'everything', 'was', 'all', 'set', 'for', 'me', 'to', 'be', 'adopted', 'at', 'birth', 'by', 'a', 'lawyer', 'and', 'his', 'wife', 'except', 'that', 'when', 'i', 'popped', 'out', 'they', 'decided', 'at', 'the', 'last', 'minute', 'that', 'they', 'really', 'wanted', 'a', 'girl', 'so', 'my', 'parents', 'who', 'were', 'on', 'a', 'waiting', 'list', 'got', 'a', 'call', 'in', 'the', 'middle', 'of', 'the', 'night', 'asking', '“we', 'have', 'an', 'unexpected', 'baby', 'boy', 'do', 'you', 'want', 'him”', 'they', 'said', '“of', 'course”', 'my', 'biological', 'mother', 'later', 'found', 'out', 'that', 'my', 'mother', 'had', 'never', 'graduated', 'from', 'college', 'and', 'that', 'my', 'father', 'had', 'never', 'graduated', 'from', 'high', 'school', 'she', 'refused', 'to', 'sign', 'the', 'final', 'adoption', 'papers', 'she', 'only', 'relented', 'a', 'few', 'months', 'later', 'when', 'my', 'parents', 'promised', 'that', 'i', 'would', 'someday', 'go', 'to', 'college', '', 'and', '17', 'years', 'later', 'i', 'did', 'go', 'to', 'college', 'but', 'i', 'naively', 'chose', 'a', 'college', 'that', 'was', 'almost', 'as', 'expensive', 'as', 'stanford', 'and', 'all', 'of', 'my', 'workingclass', 'parents’', 'savings', 'were', 'being', 'spent', 'on', 'my', 'college', 'tuition', 'after', 'six', 'months', 'i', 'couldn’t', 'see', 'the', 'value', 'in', 'it', 'i', 'had', 'no', 'idea', 'what', 'i', 'wanted', 'to', 'do', 'with', 'my', 'life', 'and', 'no', 'idea', 'how', 'college', 'was', 'going', 'to', 'help', 'me', 'figure', 'it', 'out', 'and', 'here', 'i', 'was', 'spending', 'all', 'of', 'the', 'money', 'my', 'parents', 'had', 'saved', 'their', 'entire', 'life', 'so', 'i', 'decided', 'to', 'drop', 'out', 'and', 'trust', 'that', 'it', 'would', 'all', 'work', 'out', 'ok', 'it', 'was', 'pretty', 'scary', 'at', 'the', 'time', 'but', 'looking', 'back', 'it', 'was', 'one', 'of', 'the', 'best', 'decisions', 'i', 'ever', 'made', 'the', 'minute', 'i', 'dropped', 'out', 'i', 'could', 'stop', 'taking', 'the', 'required', 'classes', 'that', 'didn’t', 'interest', 'me', 'and', 'begin', 'dropping', 'in', 'on', 'the', 'ones', 'that', 'looked', 'interesting', '', 'it', 'wasn’t', 'all', 'romantic', 'i', 'didn’t', 'have', 'a', 'dorm', 'room', 'so', 'i', 'slept', 'on', 'the', 'floor', 'in', 'friends’', 'rooms', 'i', 'returned', 'coke', 'bottles', 'for', 'the', '5¢', 'deposits', 'to', 'buy', 'food', 'with', 'and', 'i', 'would', 'walk', 'the', '7', 'miles', 'across', 'town', 'every', 'sunday', 'night', 'to', 'get', 'one', 'good', 'meal', 'a', 'week', 'at', 'the', 'hare', 'krishna', 'temple', 'i', 'loved', 'it', 'and', 'much', 'of', 'what', 'i', 'stumbled', 'into', 'by', 'following', 'my', 'curiosity', 'and', 'intuition', 'turned', 'out', 'to', 'be', 'priceless', 'later', 'on', 'let', 'me', 'give', 'you', 'one', 'example', '', 'reed', 'college', 'at', 'that', 'time', 'offered', 'perhaps', 'the', 'best', 'calligraphy', 'instruction', 'in', 'the', 'country', 'throughout', 'the', 'campus', 'every', 'poster', 'every', 'label', 'on', 'every', 'drawer', 'was', 'beautifully', 'hand', 'calligraphed', 'because', 'i', 'had', 'dropped', 'out', 'and', 'didn’t', 'have', 'to', 'take', 'the', 'normal', 'classes', 'i', 'decided', 'to', 'take', 'a', 'calligraphy', 'class', 'to', 'learn', 'how', 'to', 'do', 'this', 'i', 'learned', 'about', 'serif', 'and', 'sans', 'serif', 'typefaces', 'about', 'varying', 'the', 'amount', 'of', 'space', 'between', 'different', 'letter', 'combinations', 'about', 'what', 'makes', 'great', 'typography', 'great', 'it', 'was', 'beautiful', 'historical', 'artistically', 'subtle', 'in', 'a', 'way', 'that', 'science', 'can’t', 'capture', 'and', 'i', 'found', 'it', 'fascinating', '', 'none', 'of', 'this', 'had', 'even', 'a', 'hope', 'of', 'any', 'practical', 'application', 'in', 'my', 'life', 'but', '10', 'years', 'later', 'when', 'we', 'were', 'designing', 'the', 'first', 'macintosh', 'computer', 'it', 'all', 'came', 'back', 'to', 'me', 'and', 'we', 'designed', 'it', 'all', 'into', 'the', 'mac', 'it', 'was', 'the', 'first', 'computer', 'with', 'beautiful', 'typography', 'if', 'i', 'had', 'never', 'dropped', 'in', 'on', 'that', 'single', 'course', 'in', 'college', 'the', 'mac', 'would', 'have', 'never', 'had', 'multiple', 'typefaces', 'or', 'proportionally', 'spaced', 'fonts', 'and', 'since', 'windows', 'just', 'copied', 'the', 'mac', 'it’s', 'likely', 'that', 'no', 'personal', 'computer', 'would', 'have', 'them', 'if', 'i', 'had', 'never', 'dropped', 'out', 'i', 'would', 'have', 'never', 'dropped', 'in', 'on', 'this', 'calligraphy', 'class', 'and', 'personal', 'computers', 'might', 'not', 'have', 'the', 'wonderful', 'typography', 'that', 'they', 'do', 'of', 'course', 'it', 'was', 'impossible', 'to', 'connect', 'the', 'dots', 'looking', 'forward', 'when', 'i', 'was', 'in', 'college', 'but', 'it', 'was', 'very', 'very', 'clear', 'looking', 'backward', '10', 'years', 'later', '', 'again', 'you', 'can’t', 'connect', 'the', 'dots', 'looking', 'forward', 'you', 'can', 'only', 'connect', 'them', 'looking', 'backward', 'so', 'you', 'have', 'to', 'trust', 'that', 'the', 'dots', 'will', 'somehow', 'connect', 'in', 'your', 'future', 'you', 'have', 'to', 'trust', 'in', 'something', '—', 'your', 'gut', 'destiny', 'life', 'karma', 'whatever', 'this', 'approach', 'has', 'never', 'let', 'me', 'down', 'and', 'it', 'has', 'made', 'all', 'the', 'difference', 'in', 'my', 'life', '', 'my', 'second', 'story', 'is', 'about', 'love', 'and', 'loss', '', 'i', 'was', 'lucky', '—', 'i', 'found', 'what', 'i', 'loved', 'to', 'do', 'early', 'in', 'life', 'woz', 'and', 'i', 'started', 'apple', 'in', 'my', 'parents’', 'garage', 'when', 'i', 'was', '20', 'we', 'worked', 'hard', 'and', 'in', '10', 'years', 'apple', 'had', 'grown', 'from', 'just', 'the', 'two', 'of', 'us', 'in', 'a', 'garage', 'into', 'a', '2', 'billion', 'company', 'with', 'over', '4000', 'employees', 'we', 'had', 'just', 'released', 'our', 'finest', 'creation', '—', 'the', 'macintosh', '—', 'a', 'year', 'earlier', 'and', 'i', 'had', 'just', 'turned', '30', 'and', 'then', 'i', 'got', 'fired', 'how', 'can', 'you', 'get', 'fired', 'from', 'a', 'company', 'you', 'started', 'well', 'as', 'apple', 'grew', 'we', 'hired', 'someone', 'who', 'i', 'thought', 'was', 'very', 'talented', 'to', 'run', 'the', 'company', 'with', 'me', 'and', 'for', 'the', 'first', 'year', 'or', 'so', 'things', 'went', 'well', 'but', 'then', 'our', 'visions', 'of', 'the', 'future', 'began', 'to', 'diverge', 'and', 'eventually', 'we', 'had', 'a', 'falling', 'out', 'when', 'we', 'did', 'our', 'board', 'of', 'directors', 'sided', 'with', 'him', 'so', 'at', '30', 'i', 'was', 'out', 'and', 'very', 'publicly', 'out', 'what', 'had', 'been', 'the', 'focus', 'of', 'my', 'entire', 'adult', 'life', 'was', 'gone', 'and', 'it', 'was', 'devastating', '', 'i', 'really', 'didn’t', 'know', 'what', 'to', 'do', 'for', 'a', 'few', 'months', 'i', 'felt', 'that', 'i', 'had', 'let', 'the', 'previous', 'generation', 'of', 'entrepreneurs', 'down', '—', 'that', 'i', 'had', 'dropped', 'the', 'baton', 'as', 'it', 'was', 'being', 'passed', 'to', 'me', 'i', 'met', 'with', 'david', 'packard', 'and', 'bob', 'noyce', 'and', 'tried', 'to', 'apologize', 'for', 'screwing', 'up', 'so', 'badly', 'i', 'was', 'a', 'very', 'public', 'failure', 'and', 'i', 'even', 'thought', 'about', 'running', 'away', 'from', 'the', 'valley', 'but', 'something', 'slowly', 'began', 'to', 'dawn', 'on', 'me', '—', 'i', 'still', 'loved', 'what', 'i', 'did', 'the', 'turn', 'of', 'events', 'at', 'apple', 'had', 'not', 'changed', 'that', 'one', 'bit', 'i', 'had', 'been', 'rejected', 'but', 'i', 'was', 'still', 'in', 'love', 'and', 'so', 'i', 'decided', 'to', 'start', 'over', '', 'i', 'didn’t', 'see', 'it', 'then', 'but', 'it', 'turned', 'out', 'that', 'getting', 'fired', 'from', 'apple', 'was', 'the', 'best', 'thing', 'that', 'could', 'have', 'ever', 'happened', 'to', 'me', 'the', 'heaviness', 'of', 'being', 'successful', 'was', 'replaced', 'by', 'the', 'lightness', 'of', 'being', 'a', 'beginner', 'again', 'less', 'sure', 'about', 'everything', 'it', 'freed', 'me', 'to', 'enter', 'one', 'of', 'the', 'most', 'creative', 'periods', 'of', 'my', 'life', '', 'during', 'the', 'next', 'five', 'years', 'i', 'started', 'a', 'company', 'named', 'next', 'another', 'company', 'named', 'pixar', 'and', 'fell', 'in', 'love', 'with', 'an', 'amazing', 'woman', 'who', 'would', 'become', 'my', 'wife', 'pixar', 'went', 'on', 'to', 'create', 'the', 'world’s', 'first', 'computer', 'animated', 'feature', 'film', 'toy', 'story', 'and', 'is', 'now', 'the', 'most', 'successful', 'animation', 'studio', 'in', 'the', 'world', 'in', 'a', 'remarkable', 'turn', 'of', 'events', 'apple', 'bought', 'next', 'i', 'returned', 'to', 'apple', 'and', 'the', 'technology', 'we', 'developed', 'at', 'next', 'is', 'at', 'the', 'heart', 'of', 'apple’s', 'current', 'renaissance', 'and', 'laurene', 'and', 'i', 'have', 'a', 'wonderful', 'family', 'together', '', 'i’m', 'pretty', 'sure', 'none', 'of', 'this', 'would', 'have', 'happened', 'if', 'i', 'hadn’t', 'been', 'fired', 'from', 'apple', 'it', 'was', 'awful', 'tasting', 'medicine', 'but', 'i', 'guess', 'the', 'patient', 'needed', 'it', 'sometimes', 'life', 'hits', 'you', 'in', 'the', 'head', 'with', 'a', 'brick', 'don’t', 'lose', 'faith', 'i’m', 'convinced', 'that', 'the', 'only', 'thing', 'that', 'kept', 'me', 'going', 'was', 'that', 'i', 'loved', 'what', 'i', 'did', 'you’ve', 'got', 'to', 'find', 'what', 'you', 'love', 'and', 'that', 'is', 'as', 'true', 'for', 'your', 'work', 'as', 'it', 'is', 'for', 'your', 'lovers', 'your', 'work', 'is', 'going', 'to', 'fill', 'a', 'large', 'part', 'of', 'your', 'life', 'and', 'the', 'only', 'way', 'to', 'be', 'truly', 'satisfied', 'is', 'to', 'do', 'what', 'you', 'believe', 'is', 'great', 'work', 'and', 'the', 'only', 'way', 'to', 'do', 'great', 'work', 'is', 'to', 'love', 'what', 'you', 'do', 'if', 'you', 'haven’t', 'found', 'it', 'yet', 'keep', 'looking', 'don’t', 'settle', 'as', 'with', 'all', 'matters', 'of', 'the', 'heart', 'you’ll', 'know', 'when', 'you', 'find', 'it', 'and', 'like', 'any', 'great', 'relationship', 'it', 'just', 'gets', 'better', 'and', 'better', 'as', 'the', 'years', 'roll', 'on', 'so', 'keep', 'looking', 'until', 'you', 'find', 'it', 'don’t', 'settle', '', 'my', 'third', 'story', 'is', 'about', 'death', '', 'when', 'i', 'was', '17', 'i', 'read', 'a', 'quote', 'that', 'went', 'something', 'like', '“if', 'you', 'live', 'each', 'day', 'as', 'if', 'it', 'was', 'your', 'last', 'someday', 'you’ll', 'most', 'certainly', 'be', 'right”', 'it', 'made', 'an', 'impression', 'on', 'me', 'and', 'since', 'then', 'for', 'the', 'past', '33', 'years', 'i', 'have', 'looked', 'in', 'the', 'mirror', 'every', 'morning', 'and', 'asked', 'myself', '“if', 'today', 'were', 'the', 'last', 'day', 'of', 'my', 'life', 'would', 'i', 'want', 'to', 'do', 'what', 'i', 'am', 'about', 'to', 'do', 'today”', 'and', 'whenever', 'the', 'answer', 'has', 'been', '“no”', 'for', 'too', 'many', 'days', 'in', 'a', 'row', 'i', 'know', 'i', 'need', 'to', 'change', 'something', '', 'remembering', 'that', 'i’ll', 'be', 'dead', 'soon', 'is', 'the', 'most', 'important', 'tool', 'i’ve', 'ever', 'encountered', 'to', 'help', 'me', 'make', 'the', 'big', 'choices', 'in', 'life', 'because', 'almost', 'everything', '—', 'all', 'external', 'expectations', 'all', 'pride', 'all', 'fear', 'of', 'embarrassment', 'or', 'failure', '—', 'these', 'things', 'just', 'fall', 'away', 'in', 'the', 'face', 'of', 'death', 'leaving', 'only', 'what', 'is', 'truly', 'important', 'remembering', 'that', 'you', 'are', 'going', 'to', 'die', 'is', 'the', 'best', 'way', 'i', 'know', 'to', 'avoid', 'the', 'trap', 'of', 'thinking', 'you', 'have', 'something', 'to', 'lose', 'you', 'are', 'already', 'naked', 'there', 'is', 'no', 'reason', 'not', 'to', 'follow', 'your', 'heart', '', 'about', 'a', 'year', 'ago', 'i', 'was', 'diagnosed', 'with', 'cancer', 'i', 'had', 'a', 'scan', 'at', '730', 'in', 'the', 'morning', 'and', 'it', 'clearly', 'showed', 'a', 'tumor', 'on', 'my', 'pancreas', 'i', 'didn’t', 'even', 'know', 'what', 'a', 'pancreas', 'was', 'the', 'doctors', 'told', 'me', 'this', 'was', 'almost', 'certainly', 'a', 'type', 'of', 'cancer', 'that', 'is', 'incurable', 'and', 'that', 'i', 'should', 'expect', 'to', 'live', 'no', 'longer', 'than', 'three', 'to', 'six', 'months', 'my', 'doctor', 'advised', 'me', 'to', 'go', 'home', 'and', 'get', 'my', 'affairs', 'in', 'order', 'which', 'is', 'doctor’s', 'code', 'for', 'prepare', 'to', 'die', 'it', 'means', 'to', 'try', 'to', 'tell', 'your', 'kids', 'everything', 'you', 'thought', 'you’d', 'have', 'the', 'next', '10', 'years', 'to', 'tell', 'them', 'in', 'just', 'a', 'few', 'months', 'it', 'means', 'to', 'make', 'sure', 'everything', 'is', 'buttoned', 'up', 'so', 'that', 'it', 'will', 'be', 'as', 'easy', 'as', 'possible', 'for', 'your', 'family', 'it', 'means', 'to', 'say', 'your', 'goodbyes', '', 'i', 'lived', 'with', 'that', 'diagnosis', 'all', 'day', 'later', 'that', 'evening', 'i', 'had', 'a', 'biopsy', 'where', 'they', 'stuck', 'an', 'endoscope', 'down', 'my', 'throat', 'through', 'my', 'stomach', 'and', 'into', 'my', 'intestines', 'put', 'a', 'needle', 'into', 'my', 'pancreas', 'and', 'got', 'a', 'few', 'cells', 'from', 'the', 'tumor', 'i', 'was', 'sedated', 'but', 'my', 'wife', 'who', 'was', 'there', 'told', 'me', 'that', 'when', 'they', 'viewed', 'the', 'cells', 'under', 'a', 'microscope', 'the', 'doctors', 'started', 'crying', 'because', 'it', 'turned', 'out', 'to', 'be', 'a', 'very', 'rare', 'form', 'of', 'pancreatic', 'cancer', 'that', 'is', 'curable', 'with', 'surgery', 'i', 'had', 'the', 'surgery', 'and', 'i’m', 'fine', 'now']\n"
          ],
          "name": "stdout"
        }
      ]
    },
    {
      "cell_type": "markdown",
      "metadata": {
        "id": "L6_9CKfFJuAs"
      },
      "source": [
        "#### stop words from nltk library"
      ]
    },
    {
      "cell_type": "code",
      "metadata": {
        "id": "-wZTG85GJyO1"
      },
      "source": [
        "stop_words = {'i', 'with', 'he', 'down', 'itself', 'm', 'shan', 'no', 'yourself', 'but', 'the', 'y', 'again', 'more', 'o', \"she's\", 'theirs', 'my', \"isn't\", 'are', 're', 'their', 'own', 'during', 'don', 'such', 'me', \"you'll\", 'have', 'has', 'an', 'isn', 'wouldn', 'between', 'just', 'this', 'himself', 'very', 'further', 'by', 'doing', 'so', \"it's\", \"won't\", 'out', 'not', 'ours', 'didn', 'on', 'were', 'that', 's', 'which', \"don't\", 'll', 'nor', \"needn't\", 'some', 'above', 'any', \"shouldn't\", \"hadn't\", \"mightn't\", 'needn', 'after', 'ourselves', 'a', \"didn't\", 'hers', 'until', \"that'll\", 'once', 'mustn', 'mightn', 'hadn', 'in', 'being', 'few', 'or', \"doesn't\", 't', 'been', \"wasn't\", 'can', 'themselves', 'up', 'to', 'it', 'for', 'had', 'haven', 'am', 'through', 'she', 'too', 'herself', 'than', 'as', 'yourselves', 'before', 'and', 'because', 'where', 'doesn', 'weren', 'under', 'whom', 'same', 'ain', 'was', 'should', 'there', 'hasn', 'shouldn', 'off', 'other', 'couldn', 'at', 'those', 'over', 'myself', \"hasn't\", 'your', 'be', 'do', 'why', 'does', 'below', \"you've\", 'd', 'aren', 'who', \"should've\", \"mustn't\", 'from', 'of', 've', \"haven't\", 'will', 'its', 'what', 'did', 'won', 'yours', 'you', 'him', 'if', 'each', 'both', 'while', 'how', 'they', 'about', 'we', \"you'd\", 'most', \"couldn't\", \"weren't\", \"you're\", 'here', 'wasn', 'all', 'them', 'now', \"shan't\", 'against', 'ma', \"wouldn't\", 'his', 'is', 'then', 'only', 'when', 'having', \"aren't\", 'into', 'these', 'our', 'her'}"
      ],
      "execution_count": 40,
      "outputs": []
    },
    {
      "cell_type": "markdown",
      "metadata": {
        "id": "GROcxTnxJ_TM"
      },
      "source": [
        "#### getting all emotions word "
      ]
    },
    {
      "cell_type": "code",
      "metadata": {
        "colab": {
          "base_uri": "https://localhost:8080/"
        },
        "id": "-6Lp18p0LWmB",
        "outputId": "7e35c16e-0f15-448a-df89-decfed6dd308"
      },
      "source": [
        "word_and_emotions = dict()\r\n",
        "with open('emotions.txt', 'r') as f:\r\n",
        "  for emotion in f.readlines():\r\n",
        "    emotion = emotion.replace('\\n', '').replace(\"'\", '').replace(',', '').replace(' ', '')\r\n",
        "    word, emot = emotion.split(':')\r\n",
        "    word_and_emotions[word] = emot\r\n",
        "  \r\n",
        "print(word_and_emotions)"
      ],
      "execution_count": 41,
      "outputs": [
        {
          "output_type": "stream",
          "text": [
            "{'victimized': 'sad', 'accused': 'cheated', 'acquitted': 'singledout', 'adorable': 'loved', 'adored': 'loved', 'affected': 'attracted', 'afflicted': 'sad', 'aghast': 'fearful', 'agog': 'attracted', 'agonized': 'sad', 'alarmed': 'fearful', 'amused': 'happy', 'angry': 'angry', 'anguished': 'sad', 'animated': 'happy', 'annoyed': 'angry', 'anxious': 'attracted', 'apathetic': 'apathetic', 'appalled': 'angry', 'appeased': 'singledout', 'appreciated': 'esteemed', 'apprehensive': 'anxious', 'approvedof': 'loved', 'ardent': 'lustful', 'aroused': 'lustful', 'attached': 'attached', 'attracted': 'attracted', 'autonomous': 'free', 'awed': 'fearful', 'awkward': 'embarrassed', 'beatendown': 'powerless', 'beatific': 'happy', 'belonging': 'attached', 'bereaved': 'sad', 'betrayed': 'cheated', 'bewildered': 'surprise', 'bitter': 'angry', 'blissful': 'happy', 'blithe': 'happy', 'blocked': 'powerless', 'blue': 'sad', 'boiling': 'angry', 'bold': 'fearless', 'bored': 'bored', 'brave': 'fearless', 'bright': 'happy', 'brisk': 'happy', 'calm': 'safe', 'capable': 'adequate', 'captivated': 'attached', 'careless': 'powerless', 'categorized': 'singledout', 'cautious': 'fearful', 'certain': 'fearless', 'chagrined': 'belittled', 'challenged': 'attracted', 'chastised': 'hated', 'cheated': 'cheated', 'cheerful': 'happy', 'cheerless': 'sad', 'cheery': 'happy', 'cherished': 'attached', 'chicken': 'fearful', 'cocky': 'independent', 'codependent': 'codependent', 'coerced': 'cheated', 'comfortable': 'happy', 'common': 'average', 'competent': 'adequate', 'complacent': 'apathetic', 'composed': 'adequate', 'concerned': 'attracted', 'confident': 'adequate', 'confused': 'surprise', 'connected': 'attached', 'conned': 'cheated', 'consumed': 'obsessed', 'contented': 'happy', 'controlled': 'powerless', 'convivial': 'happy', 'cornered': 'entitled', 'courageous': 'fearless', 'cowardly': 'fearful', 'craving': 'attracted', 'crestfallen': 'sad', 'criticized': 'hated', 'cross': 'angry', 'cross-examined': 'singledout', 'crushed': 'sad', 'curious': 'attracted', 'cutoff': 'alone', 'daring': 'fearless', 'dark': 'sad', 'dedicated': 'attracted', 'defeated': 'powerless', 'defenseless': 'fearful', 'degraded': 'belittled', 'dejected': 'sad', 'depressed': 'sad', 'deserted': 'hated', 'desirable': 'loved', 'despondent': 'sad', 'detached': 'alone', 'determined': 'focused', 'diminished': 'belittled', 'disappointed': 'demoralized', 'discarded': 'hated', 'disconsolate': 'sad', 'discontented': 'sad', 'discounted': 'belittled', 'discouraged': 'powerless', 'disgraced': 'belittled', 'disgusted': 'angry', 'disheartened': 'sad', 'disillusioned': 'demoralized', 'disjointed': 'derailed', 'dismal': 'sad', 'dismayed': 'fearful', 'disoriented': 'derailed', 'disparaged': 'cheated', 'displeased': 'sad', 'disrespected': 'belittled', 'distressed': 'sad', 'distrustful': 'anxious', 'dolorous': 'sad', 'doubtful': 'fearful', 'down': 'sad', 'downhearted': 'sad', 'dreadful': 'sad', 'dreary': 'sad', 'dubious': 'anxious', 'dull': 'sad', 'duped': 'cheated', 'eager': 'attracted', 'earnest': 'attracted', 'ecstatic': 'happy', 'elated': 'happy', 'embarrassed': 'embarrassed', 'empathetic': 'attached', 'enchanted': 'attracted', 'encouraged': 'adequate', 'engrossed': 'attracted', 'enraged': 'angry', 'enterprising': 'fearless', 'enthusiastic': 'happy', 'entrusted': 'loved', 'esteemed': 'esteemed', 'excited': 'adequate', 'excluded': 'alone', 'exempt': 'entitled', 'exhaustedhopeless': 'powerless', 'exhilarated': 'happy', 'exploited': 'cheated', 'exposed': 'fearful', 'fabulous': 'ecstatic', 'fainthearted': 'fearful', 'fantastic': 'ecstatic', 'fascinated': 'attracted', 'favored': 'entitled', 'fearful': 'fearful', 'fervent': 'attracted', 'fervid': 'attracted', 'festive': 'happy', 'flat': 'sad', 'focused': 'focused', 'forced': 'powerless', 'forsaken': 'hated', 'framed': 'cheated', 'free': 'free', 'free&easy': 'happy', 'frightened': 'fearful', 'frisky': 'happy', 'frustrated': 'angry', 'fullofanticipation': 'attracted', 'fullofennui': 'apathetic', 'fuming': 'angry', 'funereal': 'sad', 'furious': 'angry', 'gallant': 'fearless', 'genial': 'happy', 'glad': 'happy', 'gleeful': 'happy', 'gloomy': 'sad', 'glum': 'sad', 'grief-stricken': 'sad', 'grieved': 'sad', 'guilt': 'sad', 'guilty': 'singledout', 'happy': 'happy', 'hardy': 'fearless', 'heartbroken': 'sad', 'heavyhearted': 'sad', 'hesitant': 'fearful', 'high-spirited': 'happy', 'hilarious': 'happy', 'hopeful': 'attracted', 'horny': 'lustful', 'horrified': 'fearful', 'hotandbothered': 'lustful', 'humiliated': 'sad', 'humorous': 'happy', 'hurt': 'sad', 'hysterical': 'fearful', 'ignored': 'hated', 'illatease': 'sad', 'immobilized': 'apathetic', 'immune': 'entitled', 'important': 'happy', 'impotent': 'powerless', 'imprisoned': 'entitled', 'inahuff': 'angry', 'inastew': 'angry', 'incontrol': 'adequate', 'infear': 'fearful', 'inpain': 'sad', 'inthedumps': 'sad', 'inthezone': 'focused', 'incensed': 'angry', 'included': 'attached', 'indecisive': 'anxious', 'independent': 'free', 'indignant': 'angry', 'infatuated': 'lustful', 'inflamed': 'angry', 'injured': 'sad', 'inquisitive': 'attracted', 'insecure': 'fearful', 'insignificant': 'belittled', 'intent': 'attracted', 'interested': 'attracted', 'interrogated': 'singledout', 'intrigued': 'attracted', 'irate': 'angry', 'irresolute': 'fearful', 'irresponsible': 'powerless', 'irritated': 'angry', 'isolated': 'alone', 'jaunty': 'happy', 'jocular': 'happy', 'jolly': 'happy', 'jovial': 'happy', 'joyful': 'happy', 'joyless': 'sad', 'joyous': 'happy', 'jubilant': 'happy', 'justified': 'singledout', 'keen': 'attracted', 'labeled': 'singledout', 'lackadaisical': 'bored', 'lazy': 'apathetic', 'leftout': 'hated', 'letdown': 'hated', 'lethargic': 'apathetic', 'liedto': 'cheated', 'lighthearted': 'happy', 'liked': 'attached', 'lively': 'happy', 'livid': 'angry', 'lonely': 'alone', 'lonesome': 'alone', 'lost': 'lost', 'loved': 'loved', 'low': 'sad', 'lucky': 'happy', 'lugubrious': 'sad', 'macho': 'independent', 'mad': 'angry', 'melancholy': 'sad', 'menaced': 'fearful', 'merry': 'happy', 'mirthful': 'happy', 'misgiving': 'fearful', 'misunderstood': 'alone', 'moody': 'sad', 'moping': 'sad', 'motivated': 'attracted', 'mournful': 'sad', 'needed': 'attracted', 'needy': 'codependent', 'nervous': 'fearful', 'obligated': 'powerless', 'obsessed': 'obsessed', 'offended': 'angry', 'oppressed': 'sad', 'optionless': 'entitled', 'ordinary': 'average', 'organized': 'adequate', 'outofcontrol': 'powerless', 'outofsorts': 'sad', 'outmaneuvered': 'entitled', 'outraged': 'angry', 'overjoyed': 'happy', 'overlooked': 'hated', 'overwhelmed': 'powerless', 'panicked': 'fearful', 'passionate': 'lustful', 'passive': 'apathetic', 'pathetic': 'sad', 'peaceful': 'happy', 'pensive': 'anxious', 'perplexed': 'anxious', 'phobic': 'fearful', 'playful': 'happy', 'pleased': 'happy', 'powerless': 'powerless', 'pressured': 'burdened', 'privileged': 'entitled', 'proud': 'happy', 'provoked': 'angry', 'punished': 'hated', 'putupon': 'burdened', 'quaking': 'fearful', 'quiescent': 'apathetic', 'rageful': 'angry', 'rapturous': 'happy', 'rated': 'singledout', 'reassured': 'fearless', 'reckless': 'powerless', 'redeemed': 'singledout', 'regretful': 'sad', 'rejected': 'hated', 'released': 'free', 'remorse': 'sad', 'replaced': 'hated', 'repulsed': 'demoralized', 'resentful': 'angry', 'resolute': 'fearless', 'respected': 'esteemed', 'responsible': 'adequate', 'restful': 'fearful', 'revered': 'esteemed', 'rueful': 'sad', 'sad': 'sad', 'satisfied': 'happy', 'saucy': 'happy', 'scared': 'fearful', 'secure': 'fearless', 'self-reliant': 'fearless', 'serene': 'happy', 'shaky': 'fearful', 'shamed': 'sad', 'shocked': 'surprise', 'significant': 'esteemed', 'singledout': 'singledout', 'skeptical': 'anxious', 'snoopy': 'attracted', 'somber': 'sad', 'sparkling': 'happy', 'spirited': 'sad', 'spiritless': 'sad', 'sprightly': 'happy', 'startled': 'surprise', 'stereotyped': 'singledout', 'stifled': 'powerless', 'stouthearted': 'fearless', 'strong': 'independent', 'suffering': 'sad', 'sulky': 'sad', 'sullen': 'angry', 'sunny': 'happy', 'surprised': 'surprise', 'suspicious': 'fearful', 'sympathetic': 'codependent', 'tense': 'anxious', 'terrified': 'fearful', 'terrorized': 'fearful', 'thankful': 'happy', 'threatened': 'fearful', 'thwarted': 'powerless', 'timid': 'fearful', 'timorous': 'fearful', 'torn': 'derailed', 'tortured': 'sad', 'tragic': 'sad', 'tranquil': 'happy', 'transported': 'happy', 'trapped': 'entitled', 'tremulous': 'fearful', 'tricked': 'entitled', 'turnedon': 'lustful', 'unapprovedof': 'hated', 'unbelieving': 'anxious', 'uncertain': 'anxious', 'unconcerned': 'apathetic', 'understood': 'attached', 'unfocussed': 'lost', 'unlovable': 'hated', 'unloved': 'hated', 'unmotivated': 'apathetic', 'unshackled': 'free', 'unsupported': 'belittled', 'upinarms': 'angry', 'upset': 'fearful', 'validated': 'loved', 'valued': 'esteemed', 'violated': 'cheated', 'virulent': 'angry', 'vivacious': 'happy', 'vulnerable': 'powerless', 'wavering': 'anxious', 'weak': 'powerless', 'welcomed': 'loved', 'woebegone': 'sad', 'woeful': 'sad', 'worndown': 'powerless', 'wornout': 'powerless', 'worried': 'fearful', 'worshiped': 'esteemed', 'wrathful': 'angry', 'wronged': 'singledout', 'wroughtup': 'angry', 'yearning': 'lustful', 'yellow': 'fearful', 'zealous': 'attracted', 'abandoned': 'hated', 'absolved': 'singledout', 'absorbed': 'attracted', 'abused': 'powerless', 'accepted': 'loved', 'aching': 'sad', 'acrimonious': 'angry', 'addicted': 'codependent', 'adequate': 'adequate', 'admired': 'esteemed', 'affectionate': 'attached', 'affronted': 'singledout', 'afraid': 'fearful', 'airy': 'happy', 'alone': 'alone', 'ambivalent': 'bored', 'arrogant': 'independent', 'ashamed': 'embarrassed', 'astonished': 'surprise', 'atease': 'safe', 'attacked': 'fearful', 'audacious': 'fearless', 'average': 'average', 'avid': 'attracted', 'baffled': 'lost', 'bashful': 'powerless', 'belittled': 'belittled', 'buoyant': 'happy', 'burdened': 'burdened', 'clouded': 'sad', 'committed': 'focused', 'compassionate': 'attached', 'compelled': 'obsessed', 'dauntless': 'fearless', 'debonair': 'happy', 'deceived': 'entitled', 'delighted': 'ecstatic', 'demoralized': 'demoralized', 'derailed': 'derailed', 'desirous': 'attracted', 'despairing': 'sad', 'devastated': 'angry', 'diffident': 'fearful', 'discredited': 'belittled', 'disinclined': 'demoralized', 'disorganized': 'powerless', 'downcast': 'sad', 'entitled': 'entitled', 'exultant': 'happy', 'fidgety': 'fearful', 'frowning': 'sad', 'fullofmisgiving': 'anxious', 'great': 'happy', 'hapless': 'sad', 'hated': 'hated', 'heroic': 'fearless', 'hostile': 'angry', 'indespair': 'sad', 'indifferent': 'bored', 'infuriated': 'angry', 'inspired': 'happy', 'inspiring': 'attracted', 'judged': 'singledout', 'laughting': 'happy', 'loving': 'attached', 'lustful': 'lustful', 'manipulated': 'cheated', 'mumpish': 'sad', 'nosey': 'attracted', 'numb': 'apathetic', 'obliterated': 'powerless', 'petrified': 'fearful', 'piqued': 'angry', 'piteous': 'sad', 'questioning': 'anxious', 'self-satisfied': 'happy', 'setup': 'entitled', 'shutout': 'alone', 'sorrowful': 'sad', 'supported': 'esteemed', 'terrific': 'happy', 'trembling': 'fearful', 'uncomfortable': 'anxious', 'underestimated': 'belittled', 'unhappy': 'sad', 'vindicated': 'singledout', 'workedup': 'angry'}\n"
          ],
          "name": "stdout"
        }
      ]
    },
    {
      "cell_type": "markdown",
      "metadata": {
        "id": "TqUd4tO5M6n3"
      },
      "source": [
        "#### adding emotional_words from tokenized words to a list"
      ]
    },
    {
      "cell_type": "code",
      "metadata": {
        "colab": {
          "base_uri": "https://localhost:8080/"
        },
        "id": "qKqow9O7LgB0",
        "outputId": "8bc8664c-7655-4a49-c841-04cb37d855ad"
      },
      "source": [
        "emotioal_words = []\r\n",
        "for word in tokenize_words:\r\n",
        "  if word in word_and_emotions:\r\n",
        "    emotioal_words.append(word)\r\n",
        "    \r\n",
        "print(emotioal_words)"
      ],
      "execution_count": 42,
      "outputs": [
        {
          "output_type": "stream",
          "text": [
            "['loved', 'great', 'great', 'down', 'lucky', 'loved', 'released', 'down', 'loved', 'rejected', 'replaced', 'animated', 'needed', 'loved', 'satisfied', 'great', 'great', 'great', 'important', 'important', 'down']\n"
          ],
          "name": "stdout"
        }
      ]
    },
    {
      "cell_type": "markdown",
      "metadata": {
        "id": "z52THT66OEin"
      },
      "source": [
        "#### counting frequency of each word and plotting the graph"
      ]
    },
    {
      "cell_type": "code",
      "metadata": {
        "colab": {
          "base_uri": "https://localhost:8080/",
          "height": 304
        },
        "id": "fwATHVEHOOAB",
        "outputId": "7294ff79-0b28-49b5-f246-e2fcc4c0f96d"
      },
      "source": [
        "words_counts = Counter(emotioal_words)\r\n",
        "print(f'words_counts: {dict(words_counts)}')\r\n",
        "# plotting\r\n",
        "fig, ax1 = plt.subplots()\r\n",
        "ax1.bar(words_counts.keys(), words_counts.values(), color='lightyellow', edgecolor='black')\r\n",
        "fig.autofmt_xdate()\r\n",
        "plt.show()"
      ],
      "execution_count": 68,
      "outputs": [
        {
          "output_type": "stream",
          "text": [
            "words_counts: {'loved': 4, 'great': 5, 'down': 3, 'lucky': 1, 'released': 1, 'rejected': 1, 'replaced': 1, 'animated': 1, 'needed': 1, 'satisfied': 1, 'important': 2}\n"
          ],
          "name": "stdout"
        },
        {
          "output_type": "display_data",
          "data": {
            "image/png": "[encoded data removed]",
            "text/plain": [
              "<Figure size 432x288 with 1 Axes>"
            ]
          },
          "metadata": {
            "tags": [],
            "needs_background": "light"
          }
        }
      ]
    },
    {
      "cell_type": "markdown",
      "metadata": {
        "id": "GOtqNrXEPrVj"
      },
      "source": [
        "#### checking sentinmental analysis using nltk"
      ]
    },
    {
      "cell_type": "code",
      "metadata": {
        "colab": {
          "base_uri": "https://localhost:8080/"
        },
        "id": "1wR3IvDfPv3H",
        "outputId": "ce7d0f63-0daa-44f3-d9c8-2c80a23b10c5"
      },
      "source": [
        "from nltk.sentiment.vader import SentimentIntensityAnalyzer\r\n",
        "import nltk\r\n",
        "nltk.download('vader_lexicon')"
      ],
      "execution_count": 58,
      "outputs": [
        {
          "output_type": "stream",
          "text": [
            "[nltk_data] Downloading package vader_lexicon to /root/nltk_data...\n"
          ],
          "name": "stdout"
        },
        {
          "output_type": "execute_result",
          "data": {
            "text/plain": [
              "True"
            ]
          },
          "metadata": {
            "tags": []
          },
          "execution_count": 58
        }
      ]
    },
    {
      "cell_type": "code",
      "metadata": {
        "colab": {
          "base_uri": "https://localhost:8080/"
        },
        "id": "tkdNf7jvQhxu",
        "outputId": "2a206cf8-a0de-4b3f-baa6-d824e4feebcc"
      },
      "source": [
        "def sentiment_analyse(sentiment_text):\r\n",
        "  score = SentimentIntensityAnalyzer().polarity_scores(sentiment_text)\r\n",
        "  if score['neg'] > score['pos']:\r\n",
        "    print(f'Negative Sentiment')\r\n",
        "  elif score['neg'] < score['pos']:\r\n",
        "    print(f'Positive Sentiment')\r\n",
        "  else:\r\n",
        "    print(f'Neutral Sentiment')\r\n",
        "sentiment_analyse(cleaned_text)"
      ],
      "execution_count": 62,
      "outputs": [
        {
          "output_type": "stream",
          "text": [
            "Positive Sentiment\n"
          ],
          "name": "stdout"
        }
      ]
    }
  ]
}